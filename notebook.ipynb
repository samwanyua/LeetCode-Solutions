{
 "cells": [
  {
   "cell_type": "markdown",
   "id": "873261bc",
   "metadata": {},
   "source": [
    "### Data Structures & Algorithms interview Prep"
   ]
  },
  {
   "cell_type": "markdown",
   "id": "85f2ccf1",
   "metadata": {},
   "source": [
    "## Strings\n",
    "String is a sequence of characters. \n",
    "- It is immutable\n",
    "- Used for text processing, tokenizing/parsing input, search operations\n",
    "\n"
   ]
  },
  {
   "cell_type": "code",
   "execution_count": 3,
   "id": "38b6304c",
   "metadata": {},
   "outputs": [
    {
     "name": "stdout",
     "output_type": "stream",
     "text": [
      "5\n"
     ]
    }
   ],
   "source": [
    "# Common string questions\n",
    "# Reverse a string -> T: O(n), S: O(n)\n",
    "def reverse_string(s: str) -> str:\n",
    "    return s[::-1]\n",
    "\n",
    "# Check if a string is a palindrome -> T: O(n), S: O(n)\n",
    "def is_palindrome(s: str) -> bool:\n",
    "    return s == s[::-1]\n",
    "\n",
    "# Longest substring without repeating characters -> T: O(n), S: o(k)\n",
    "def len_of_longest_substring(s: str) -> int:\n",
    "    char_index = {}\n",
    "    start = max_len = 0\n",
    "    \n",
    "    for i, char in enumerate(s):\n",
    "        if char in char_index and char_index[char] >= start:\n",
    "            start = char_index[char] + 1\n",
    "        char_index[char] = i\n",
    "        max_len = max(max_len, i - start + 1)\n",
    "        \n",
    "    print(max_len)\n",
    "    \n",
    "len_of_longest_substring(\"aabbccddkkkekdfskksdjdf\")\n",
    "\n",
    "# Anagram checker\n",
    "from collections import Counter\n",
    "\n",
    "def is_anagram(s: str, t: str) -> bool:\n",
    "    return Counter(s) == Counter(t)\n"
   ]
  },
  {
   "cell_type": "markdown",
   "id": "b7653276",
   "metadata": {},
   "source": [
    "### Reverse Vowels in a string"
   ]
  },
  {
   "cell_type": "code",
   "execution_count": 10,
   "id": "f34cdefd",
   "metadata": {},
   "outputs": [
    {
     "data": {
      "text/plain": [
       "'Wanyaua'"
      ]
     },
     "execution_count": 10,
     "metadata": {},
     "output_type": "execute_result"
    }
   ],
   "source": [
    "def reverse_vowel(s):\n",
    "    vowels = ['a', 'e', 'i', 'o', 'u', 'A', 'E', 'I' 'O', 'U']\n",
    "    if s == None or s == \"\" or len(s) == 1:\n",
    "        return s\n",
    "    else:\n",
    "        i = 0\n",
    "        j = len(s) - 1\n",
    "        s = list(s)\n",
    "        \n",
    "        while i < j:\n",
    "            if s[i] not in vowels:\n",
    "                i += 1\n",
    "                continue\n",
    "            if s[j] not in vowels:\n",
    "                j -=1\n",
    "                continue\n",
    "            s[i], s[j] = s[j], s[i]\n",
    "            i +=1\n",
    "            j -=1\n",
    "        return \"\".join(s)\n",
    "    \n",
    "reverse_vowel(\"Wanyuaa\")\n",
    "    \n",
    "    "
   ]
  },
  {
   "cell_type": "code",
   "execution_count": null,
   "id": "8997db8c",
   "metadata": {
    "vscode": {
     "languageId": "sql"
    }
   },
   "outputs": [],
   "source": []
  }
 ],
 "metadata": {
  "kernelspec": {
   "display_name": "Python 3",
   "language": "python",
   "name": "python3"
  },
  "language_info": {
   "codemirror_mode": {
    "name": "ipython",
    "version": 3
   },
   "file_extension": ".py",
   "mimetype": "text/x-python",
   "name": "python",
   "nbconvert_exporter": "python",
   "pygments_lexer": "ipython3",
   "version": "3.13.0"
  }
 },
 "nbformat": 4,
 "nbformat_minor": 5
}
